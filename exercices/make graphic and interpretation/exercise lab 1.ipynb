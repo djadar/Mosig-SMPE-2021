{
 "cells": [
  {
   "cell_type": "code",
   "execution_count": 4,
   "metadata": {},
   "outputs": [],
   "source": [
    "#!pip install matplotlib\n",
    "import matplotlib.pyplot as plt\n",
    "import numpy as np\n",
    "import pandas as pd"
   ]
  },
  {
   "cell_type": "code",
   "execution_count": 2,
   "metadata": {},
   "outputs": [],
   "source": [
    "data = [[1.36, 0.24, 0.22, 0.11, 1.25, 0.24, 0.35, 0.24, 1.6, 0.63, 0.68, 0.0, 1.44, 1.86, 3.47, 0.58, 0.0, 0.82, 2.75, 3.14, 1.58, 2.83, 1.92, 0.83, 2.47, 1.13, 1.72, 0.61, 0.35, 1.11, 1.24, 2.36, 0.5], [2.07, 3.6, 2.57, 4.29, 5.67, 1.67, 2.43, 4.72, 7.67, 3.83, 5.13, 2.31, 1.0, 3.74, 6.64, 3.39, 2.36, 6.75, 5.13, 8.0, 7.08, 6.01, 6.25, 2.61, 3.61, 2.67, 5.24, 1.56, 1.89, 4.06, 3.11, 4.0, 2.89], [7.63, 5.79, 7.38, 8.5, 5.75, 4.83, 5.38, 7.75, 7.54, 8.38, 7.5, 6.17, 5.68, 7.25, 7.54, 5.64, 6.46, 7.5, 8.75, 9.0, 7.25, 7.42, 6.58, 8.25, 7.46, 7.21, 7.5, 8.17, 6.96, 8.0, 6.92, 5.71, 7.0], [1.57, 1.36, 1.25, 2.81, 0.86, 0.47, 0.35, 1.81, 1.63, 1.36, 0.35, 1.75, 0.35, 2.58, 1.58, 1.67, 0.6, 1.63, 1.06, 0.0, 2.17, 0.25, 0.0, 2.67, 2.33, 1.13, 1.22, 1.33, 1.0, 0.83], [2.26, 3.68, 6.26, 3.88, 6.54, 5.25, 6.0, 6.67, 4.96, 2.57, 1.64, 5.83, 6.42, 6.88, 4.46, 1.94, 5.5, 1.71, 3.33, 2.28, 5.67, 5.32, 1.56, 2.32, 4.17, 6.18, 4.32, 6.5, 3.0, 2.67], [4.42, 6.63, 6.88, 7.17, 7.0, 7.33, 7.63, 6.54, 8.54, 5.21, 1.64, 5.83, 6.42, 6.88, 4.46, 1.94, 5.5, 1.71, 3.33, 2.28, 5.67, 5.32, 1.56, 2.32, 7.0, 7.25, 7.88, 8.5, 5.21, 7.0]]"
   ]
  },
  {
   "cell_type": "code",
   "execution_count": 3,
   "metadata": {},
   "outputs": [
    {
     "data": {
      "text/plain": [
       "list"
      ]
     },
     "execution_count": 3,
     "metadata": {},
     "output_type": "execute_result"
    }
   ],
   "source": [
    "type(data)"
   ]
  },
  {
   "cell_type": "code",
   "execution_count": null,
   "metadata": {},
   "outputs": [],
   "source": []
  }
 ],
 "metadata": {
  "kernelspec": {
   "display_name": "Python 3",
   "language": "python",
   "name": "python3"
  },
  "language_info": {
   "codemirror_mode": {
    "name": "ipython",
    "version": 3
   },
   "file_extension": ".py",
   "mimetype": "text/x-python",
   "name": "python",
   "nbconvert_exporter": "python",
   "pygments_lexer": "ipython3",
   "version": "3.6.9"
  }
 },
 "nbformat": 4,
 "nbformat_minor": 4
}
